{
 "cells": [
  {
   "cell_type": "markdown",
   "metadata": {},
   "source": [
    "### 1071. Greatest Common Divisor of Strings ###\n",
    "\n",
    "[Source](https://leetcode.com/problems/greatest-common-divisor-of-strings/description/?envType=study-plan-v2&envId=leetcode-75)\n",
    "\n",
    "Time complexity of the solution: $`O(n)`$"
   ]
  },
  {
   "cell_type": "code",
   "execution_count": null,
   "metadata": {},
   "outputs": [],
   "source": [
    "def gcdOfStrings(str1: str, str2: str) -> str:\n",
    "    gcd = longer  = shorter = \"\"\n",
    "    \n",
    "    if len(str1) <= len(str2):\n",
    "        shorter = str1\n",
    "        longer = str2\n",
    "    else:\n",
    "        shorter = str2\n",
    "        longer = str1\n",
    "\n",
    "    gcd = shorter\n",
    "    while len(gcd) > 0:\n",
    "        if len(longer) % len(gcd) == 0 and len(shorter) % len(gcd) == 0:\n",
    "            n = len(longer) // len(gcd)\n",
    "            m = len(shorter) // len(gcd)\n",
    "            test_longer = gcd * n\n",
    "            test_shorter = gcd * m\n",
    "            if longer == test_longer and shorter == test_shorter:\n",
    "                return gcd\n",
    "            else:\n",
    "                gcd = gcd[: -1]\n",
    "        else:\n",
    "            gcd = gcd[: -1]\n",
    "    return gcd\n"
   ]
  },
  {
   "cell_type": "code",
   "execution_count": 75,
   "metadata": {},
   "outputs": [],
   "source": [
    "testcases = [\n",
    "    (\"ABCABC\",\"ABC\" ),\n",
    "    (\"TAUXXTAUXXTAUXXTAUXXTAUXX\", \"TAUXXTAUXXTAUXXTAUXXTAUXXTAUXXTAUXXTAUXXTAUXX\")\n",
    "]"
   ]
  },
  {
   "cell_type": "code",
   "execution_count": 77,
   "metadata": {},
   "outputs": [
    {
     "name": "stdout",
     "output_type": "stream",
     "text": [
      "ABC\n",
      "TAUXX\n"
     ]
    }
   ],
   "source": [
    "for item in testcases:\n",
    "    res = gcdOfStrings(item[0], item[1])\n",
    "    print(res)"
   ]
  }
 ],
 "metadata": {
  "kernelspec": {
   "display_name": ".venv",
   "language": "python",
   "name": "python3"
  },
  "language_info": {
   "codemirror_mode": {
    "name": "ipython",
    "version": 3
   },
   "file_extension": ".py",
   "mimetype": "text/x-python",
   "name": "python",
   "nbconvert_exporter": "python",
   "pygments_lexer": "ipython3",
   "version": "3.12.2"
  }
 },
 "nbformat": 4,
 "nbformat_minor": 2
}
