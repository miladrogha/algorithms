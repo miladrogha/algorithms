{
 "cells": [
  {
   "cell_type": "code",
   "execution_count": 7,
   "metadata": {},
   "outputs": [],
   "source": [
    "a = [ 1,0,0,0,0,1]"
   ]
  },
  {
   "cell_type": "code",
   "execution_count": 22,
   "metadata": {},
   "outputs": [],
   "source": [
    "\n",
    "'''\n",
    "[1,0,0,0,1,0,0] | c = 1\n",
    "'''\n",
    "def canPlaceFlowers(flowerbed: list[int], n: int) -> bool:\n",
    "    count = 0\n",
    "    i = 0\n",
    "    while i < len(flowerbed):\n",
    "        print(i)\n",
    "        # check if the plot is empty\n",
    "        if flowerbed[i] == 0:\n",
    "            left_is_empty = (i == 0) or (flowerbed[i-1] == 0)\n",
    "            right_is_empty = (i == len(flowerbed) - 1) or (flowerbed[i+1] == 0)\n",
    "            # check if adjacent plots are empty:\n",
    "            if (left_is_empty and right_is_empty):\n",
    "                flowerbed[i] = 1\n",
    "                count += 1\n",
    "                i += 2\n",
    "            elif left_is_empty:\n",
    "                i += 1\n",
    "            else:\n",
    "                i += 2  \n",
    "        else:\n",
    "            i += 2\n",
    "\n",
    "    return n <= count"
   ]
  },
  {
   "cell_type": "code",
   "execution_count": 38,
   "metadata": {},
   "outputs": [
    {
     "data": {
      "text/plain": [
       "['b', 'a', 'c', 'e', 'k', 'n', 'd', 'e', 'a', 'd']"
      ]
     },
     "execution_count": 38,
     "metadata": {},
     "output_type": "execute_result"
    }
   ],
   "source": [
    "a = ['b', 'a' , 'c', 'k', 'e', 'n', 'd', 'e', 'a', 'd']\n",
    "temp = a[3]\n",
    "a[3] = a[4]\n",
    "a[4] = temp\n",
    "a"
   ]
  },
  {
   "cell_type": "code",
   "execution_count": 63,
   "metadata": {},
   "outputs": [
    {
     "data": {
      "text/plain": [
       "['blue', 'is', 'sky', 'the']"
      ]
     },
     "execution_count": 63,
     "metadata": {},
     "output_type": "execute_result"
    }
   ],
   "source": [
    "s = \"the sky is blue\"\n",
    "\n",
    "s = \" \" + s + ' '\n",
    "words = []\n",
    "i = 1\n",
    "\n",
    "word = \"\"\n",
    "while i < len(s):\n",
    "    if s[i] != ' ':\n",
    "        word += s[i]\n",
    "    else:\n",
    "        words.insert(0,word)\n",
    "        word = \"\"\n",
    "    i += 1\n",
    "\n",
    "words\n",
    "\n",
    "\n",
    "\n"
   ]
  },
  {
   "cell_type": "code",
   "execution_count": null,
   "metadata": {},
   "outputs": [
    {
     "data": {
      "text/plain": [
       "'AceCreIm'"
      ]
     },
     "execution_count": 53,
     "metadata": {},
     "output_type": "execute_result"
    }
   ],
   "source": []
  },
  {
   "cell_type": "code",
   "execution_count": null,
   "metadata": {},
   "outputs": [],
   "source": []
  }
 ],
 "metadata": {
  "kernelspec": {
   "display_name": ".venv",
   "language": "python",
   "name": "python3"
  },
  "language_info": {
   "codemirror_mode": {
    "name": "ipython",
    "version": 3
   },
   "file_extension": ".py",
   "mimetype": "text/x-python",
   "name": "python",
   "nbconvert_exporter": "python",
   "pygments_lexer": "ipython3",
   "version": "3.12.2"
  }
 },
 "nbformat": 4,
 "nbformat_minor": 2
}
