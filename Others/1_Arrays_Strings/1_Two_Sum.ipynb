{
 "cells": [
  {
   "cell_type": "markdown",
   "metadata": {},
   "source": [
    "Problem: Two Sum\n",
    "Given an array of integers nums and an integer target, return the indices of the two numbers such that they add up to the target.\n",
    "\n",
    "Assumptions:\n",
    "\n",
    "Each input will have exactly one solution.\n",
    "You may not use the same element twice.\n",
    "Example:\n",
    "\n",
    "`Input: nums = [2, 7, 11, 15], target = 9`  \n",
    "`Output: [0, 1]`  \n",
    "`Explanation: nums[0] + nums[1] = 2 + 7 = 9`  "
   ]
  },
  {
   "cell_type": "code",
   "execution_count": 18,
   "metadata": {},
   "outputs": [],
   "source": [
    "def TwoSum(nums:list[int], target:int)->list[int]:\n",
    "    num_to_idx = {}\n",
    "\n",
    "    for i in range(len(nums)):\n",
    "        compliment = target - nums[i]\n",
    "        if compliment not in num_to_idx:\n",
    "            num_to_idx[compliment] = i\n",
    "    \n",
    "    for i in range(len(nums)):\n",
    "        if nums[i] in num_to_idx and (target - nums[i] in num_to_idx):\n",
    "            return [i, num_to_idx[target - nums[i]]]\n",
    "        print(num_to_idx)\n",
    "    return []"
   ]
  },
  {
   "cell_type": "code",
   "execution_count": 19,
   "metadata": {},
   "outputs": [
    {
     "data": {
      "text/plain": [
       "[0, 0]"
      ]
     },
     "execution_count": 19,
     "metadata": {},
     "output_type": "execute_result"
    }
   ],
   "source": [
    "test_case = [2,7,11,15]\n",
    "\n",
    "TwoSum(test_case, 9)"
   ]
  },
  {
   "cell_type": "code",
   "execution_count": null,
   "metadata": {},
   "outputs": [],
   "source": []
  }
 ],
 "metadata": {
  "kernelspec": {
   "display_name": ".venv",
   "language": "python",
   "name": "python3"
  },
  "language_info": {
   "codemirror_mode": {
    "name": "ipython",
    "version": 3
   },
   "file_extension": ".py",
   "mimetype": "text/x-python",
   "name": "python",
   "nbconvert_exporter": "python",
   "pygments_lexer": "ipython3",
   "version": "3.12.6"
  }
 },
 "nbformat": 4,
 "nbformat_minor": 2
}
