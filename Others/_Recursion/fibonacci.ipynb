{
 "cells": [
  {
   "cell_type": "markdown",
   "metadata": {},
   "source": [
    "### Fibonacci recursion ###\n",
    "\n",
    "1. Time complexity is $`2^n`$\n",
    "2. That is because for each call, it makes two additional calls."
   ]
  },
  {
   "cell_type": "code",
   "execution_count": 20,
   "metadata": {},
   "outputs": [],
   "source": [
    "def fibonacci(n):\n",
    "    if n == 0:\n",
    "        return 0\n",
    "    elif n == 1:\n",
    "        return 1\n",
    "    else:\n",
    "        return fibonacci(n-1) + fibonacci(n-2) "
   ]
  },
  {
   "cell_type": "code",
   "execution_count": null,
   "metadata": {},
   "outputs": [
    {
     "name": "stdout",
     "output_type": "stream",
     "text": [
      " fibonacci at step 0 is: 0 \n",
      " fibonacci at step 1 is: 1 \n",
      " fibonacci at step 2 is: 1 \n",
      " fibonacci at step 3 is: 2 \n",
      " fibonacci at step 4 is: 3 \n",
      " fibonacci at step 5 is: 5 \n",
      " fibonacci at step 6 is: 8 \n",
      " fibonacci at step 7 is: 13 \n",
      " fibonacci at step 8 is: 21 \n",
      " fibonacci at step 9 is: 34 \n"
     ]
    }
   ],
   "source": [
    "for num in range(10):\n",
    "    print(f\" fibonacci number at step {num} is: {fibonacci(num)} \")"
   ]
  }
 ],
 "metadata": {
  "kernelspec": {
   "display_name": ".venv",
   "language": "python",
   "name": "python3"
  },
  "language_info": {
   "codemirror_mode": {
    "name": "ipython",
    "version": 3
   },
   "file_extension": ".py",
   "mimetype": "text/x-python",
   "name": "python",
   "nbconvert_exporter": "python",
   "pygments_lexer": "ipython3",
   "version": "3.12.6"
  }
 },
 "nbformat": 4,
 "nbformat_minor": 2
}
