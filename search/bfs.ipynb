{
 "cells": [
  {
   "cell_type": "markdown",
   "metadata": {},
   "source": [
    "## **Breadth First Search**\n",
    "\n"
   ]
  },
  {
   "cell_type": "code",
   "execution_count": 2,
   "metadata": {},
   "outputs": [],
   "source": [
    "# Create Node object\n",
    "# Each node has a name, and connections (links). Links have the name of destination node and the cost its cost.\n",
    "\n",
    "class Node():\n",
    "    def __init__(self, name, links):\n",
    "        '''\n",
    "        Each node has a name, and connections (links). Links have the name of destination node and the cost its cost.\n",
    "        name: [type: str | name of the current Node.]\n",
    "        links: [type: list | A list of Link objects that their heads are the current node.]\n",
    "        '''\n",
    "        self.name = name\n",
    "        self.destinations = []\n",
    "        self.links = links\n",
    "    \n",
    "    def updateDest(self):\n",
    "        for link in self.links:\n",
    "            if link.head == self.name:\n",
    "                self.destinations.append(link.head)\n",
    "\n",
    "        \n",
    "\n"
   ]
  },
  {
   "cell_type": "code",
   "execution_count": 3,
   "metadata": {},
   "outputs": [],
   "source": [
    "# Create Link object\n",
    "# Each link has a head node (head), tail node (tail), and a cost.\n",
    "\n",
    "class Link():\n",
    "    def __init__(self, head, tail, cost):\n",
    "        '''\n",
    "        Each link has a head node (head), tail node (tail), and a cost.\n",
    "        head: [type: Node object | A node object as the start point of the link.]\n",
    "        tail: [type: Node object | A node object as the end point of the link.]\n",
    "        cost: [type: float, int | the cost of connection.]\n",
    "        '''\n",
    "        self.head = head\n",
    "        self.tail = tail\n",
    "        self.cost = cost"
   ]
  },
  {
   "cell_type": "code",
   "execution_count": 4,
   "metadata": {},
   "outputs": [],
   "source": [
    "# Create Tree object\n",
    "# Each Tree has a list of nodes and links \n",
    "\n",
    "class Tree():\n",
    "    def __init__(self, nodes, links):\n",
    "        '''\n",
    "        ach Tree has a list of nodes and links.\n",
    "        nodes: [type: list | list of Node objects. ]\n",
    "        links: [type: list | list of Link objects. ]\n",
    "        '''\n",
    "        self.nodes = nodes\n",
    "        self.links = links\n",
    "    \n"
   ]
  },
  {
   "cell_type": "code",
   "execution_count": null,
   "metadata": {},
   "outputs": [],
   "source": [
    "# BFS algorithm\n",
    "\n",
    "class BFS():\n",
    "    def __init__(self, tree, origin, target, mode):\n",
    "        self.tree = tree\n",
    "        self.origin = origin\n",
    "        self.target = target\n",
    "        self.mode = mode\n",
    "\n",
    "    def start(self):\n",
    "         \n",
    "\n",
    "\n"
   ]
  }
 ],
 "metadata": {
  "kernelspec": {
   "display_name": "Python 3.8.8 ('base')",
   "language": "python",
   "name": "python3"
  },
  "language_info": {
   "codemirror_mode": {
    "name": "ipython",
    "version": 3
   },
   "file_extension": ".py",
   "mimetype": "text/x-python",
   "name": "python",
   "nbconvert_exporter": "python",
   "pygments_lexer": "ipython3",
   "version": "3.8.8"
  },
  "orig_nbformat": 4,
  "vscode": {
   "interpreter": {
    "hash": "00718a9c4b7d3fce1124a552e02ca3898014a660340c99661aaef331e432a3cf"
   }
  }
 },
 "nbformat": 4,
 "nbformat_minor": 2
}
