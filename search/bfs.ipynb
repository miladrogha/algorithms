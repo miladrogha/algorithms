{
 "cells": [
  {
   "cell_type": "code",
   "execution_count": 6,
   "metadata": {},
   "outputs": [],
   "source": [
    "import numpy as np\n",
    "import pandas as pd\n",
    "import matplotlib.pyplot as plt\n",
    "import plotly.graph_objs as go\n",
    "%matplotlib inline"
   ]
  },
  {
   "cell_type": "markdown",
   "metadata": {},
   "source": [
    "## **Breadth First Search**\n",
    "\n"
   ]
  },
  {
   "cell_type": "code",
   "execution_count": 7,
   "metadata": {},
   "outputs": [],
   "source": [
    "# Create Link object\n",
    "# Each link has a head node (head), tail node (tail), and a cost.\n",
    "\n",
    "class Link():\n",
    "    def __init__(self, head, tail, cost):\n",
    "        '''\n",
    "        Each link has a head node (head), tail node (tail), and a cost.\n",
    "        head: [type: Node object | A node object as the start point of the link.]\n",
    "        tail: [type: Node object | A node object as the end point of the link.]\n",
    "        cost: [type: float, int | the cost of connection.]\n",
    "        '''\n",
    "        self.head = head\n",
    "        self.tail = tail\n",
    "        self.cost = cost"
   ]
  },
  {
   "cell_type": "code",
   "execution_count": 8,
   "metadata": {},
   "outputs": [],
   "source": [
    "# Create Node object\n",
    "# Each node has a name, and connections (links). Links have the name of destination node and the cost its cost.\n",
    "\n",
    "class Node():\n",
    "    def __init__(self, name= \"untitled\", successors =[], parent =\"\"):\n",
    "        '''\n",
    "        Each node has a name, and connections (links). Links have the name of destination node and the cost its cost.\\n\n",
    "        name: [type: str | name of the current Node.]\\n\n",
    "        successors: [type: list | A list of dict objects with \"name\" and \"cost\"]\n",
    "        '''\n",
    "        self.name = name\n",
    "        self.successors = successors\n",
    "        self.parent = parent\n",
    "        self.links = [ Link(self.name, s.name, s.cost) for s in successors ]\n",
    "\n",
    "\n",
    "        \n",
    "\n"
   ]
  },
  {
   "cell_type": "code",
   "execution_count": 5,
   "metadata": {},
   "outputs": [],
   "source": [
    "# Create Tree object\n",
    "# Each Tree has a list of nodes and links \n",
    "\n",
    "class Tree():\n",
    "    def __init__(self, links=[]):\n",
    "        '''\n",
    "        ach Tree has a list of nodes and links.\n",
    "        nodes: [type: list | list of Node objects. ]\n",
    "        links: [type: list | list of Link objects. ]\n",
    "        '''\n",
    "        self.nodes = []\n",
    "        self.create()\n",
    "    \n",
    "    def create(self, links):\n",
    "        tree_nodes = []\n",
    "        nodes_collection = []\n",
    "        \n",
    "        # create tree nodes\n",
    "\n",
    "\n",
    "    def visualize(self):\n",
    "        fig = go.Figure()\n",
    "        fig.add_trace(go.Scatter(x=Xe,\n",
    "                                y=Ye,\n",
    "                                mode='lines',\n",
    "                                line=dict(color='rgb(210,210,210)', width=1),\n",
    "                                hoverinfo='none'\n",
    "                                ))\n",
    "        fig.add_trace(go.Scatter(x=Xn,\n",
    "                                y=Yn,\n",
    "                                mode='markers',\n",
    "                                name='bla',\n",
    "                                marker=dict(symbol='circle-dot',\n",
    "                                            size=18,\n",
    "                                            color='#6175c1',  # '#DB4551',\n",
    "                                            line=dict(color='rgb(50,50,50)', width=1)\n",
    "                                            ),\n",
    "                                text = labels,\n",
    "                                hoverinfo='text',\n",
    "                                opacity=0.8\n",
    "                                ))\n"
   ]
  },
  {
   "cell_type": "code",
   "execution_count": null,
   "metadata": {},
   "outputs": [],
   "source": [
    "# BFS algorithm\n",
    "\n",
    "class BFS():\n",
    "    def __init__(self, tree, origin, target, mode):\n",
    "        self.tree = tree\n",
    "        self.origin = origin\n",
    "        self.target = target\n",
    "        self.mode = mode\n",
    "        self.path = []\n",
    "        self.path_length = 0\n",
    "        self.path_cost = 0\n",
    "\n",
    "    def start(self):\n",
    "        start_list = [self.origin]\n",
    "        length = 0\n",
    "        cost = 0\n",
    "        path = self._explore(start_list)\n",
    "\n",
    "\n",
    "                \n",
    "\n",
    "    def _explore(self, nodes_list):\n",
    "        path = []\n",
    "        cost = 0\n",
    "        while len(nodes_list) > 0: \n",
    "            for i, n in enumerate(nodes_list):\n",
    "                nodes_list.extend(n.successors)\n",
    "                if i == 0:\n",
    "                    cost += 0\n",
    "                else:\n",
    "                    cost += \n",
    "                path.append(n)\n",
    "                nodes_list.pop(n)\n",
    "        return path\n",
    "\n",
    "\n"
   ]
  }
 ],
 "metadata": {
  "kernelspec": {
   "display_name": "Python 3.10.6 64-bit",
   "language": "python",
   "name": "python3"
  },
  "language_info": {
   "codemirror_mode": {
    "name": "ipython",
    "version": 3
   },
   "file_extension": ".py",
   "mimetype": "text/x-python",
   "name": "python",
   "nbconvert_exporter": "python",
   "pygments_lexer": "ipython3",
   "version": "3.10.6"
  },
  "orig_nbformat": 4,
  "vscode": {
   "interpreter": {
    "hash": "aee8b7b246df8f9039afb4144a1f6fd8d2ca17a180786b69acc140d282b71a49"
   }
  }
 },
 "nbformat": 4,
 "nbformat_minor": 2
}
