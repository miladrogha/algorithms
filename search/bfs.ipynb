{
 "cells": [
  {
   "cell_type": "code",
   "execution_count": 10,
   "metadata": {},
   "outputs": [
    {
     "ename": "ModuleNotFoundError",
     "evalue": "No module named 'matplotlib'",
     "output_type": "error",
     "traceback": [
      "\u001b[0;31m---------------------------------------------------------------------------\u001b[0m",
      "\u001b[0;31mModuleNotFoundError\u001b[0m                       Traceback (most recent call last)",
      "\u001b[1;32m/Users/mrogha/repos/algorithms/search/bfs.ipynb Cell 1\u001b[0m in \u001b[0;36m<cell line: 3>\u001b[0;34m()\u001b[0m\n\u001b[1;32m      <a href='vscode-notebook-cell:/Users/mrogha/repos/algorithms/search/bfs.ipynb#W5sZmlsZQ%3D%3D?line=0'>1</a>\u001b[0m \u001b[39mimport\u001b[39;00m \u001b[39mnumpy\u001b[39;00m \u001b[39mas\u001b[39;00m \u001b[39mnp\u001b[39;00m\n\u001b[1;32m      <a href='vscode-notebook-cell:/Users/mrogha/repos/algorithms/search/bfs.ipynb#W5sZmlsZQ%3D%3D?line=1'>2</a>\u001b[0m \u001b[39mimport\u001b[39;00m \u001b[39mpandas\u001b[39;00m \u001b[39mas\u001b[39;00m \u001b[39mpd\u001b[39;00m\n\u001b[0;32m----> <a href='vscode-notebook-cell:/Users/mrogha/repos/algorithms/search/bfs.ipynb#W5sZmlsZQ%3D%3D?line=2'>3</a>\u001b[0m \u001b[39mimport\u001b[39;00m \u001b[39mmatplotlib\u001b[39;00m\u001b[39m.\u001b[39;00m\u001b[39mpyplot\u001b[39;00m \u001b[39mas\u001b[39;00m \u001b[39mplt\u001b[39;00m\n\u001b[1;32m      <a href='vscode-notebook-cell:/Users/mrogha/repos/algorithms/search/bfs.ipynb#W5sZmlsZQ%3D%3D?line=4'>5</a>\u001b[0m get_ipython()\u001b[39m.\u001b[39mrun_line_magic(\u001b[39m'\u001b[39m\u001b[39mmatplotlib\u001b[39m\u001b[39m'\u001b[39m, \u001b[39m'\u001b[39m\u001b[39minline\u001b[39m\u001b[39m'\u001b[39m)\n",
      "\u001b[0;31mModuleNotFoundError\u001b[0m: No module named 'matplotlib'"
     ]
    }
   ],
   "source": [
    "import numpy as np\n",
    "import pandas as pd\n",
    "import matplotlib.pyplot as plt\n",
    "\n",
    "%matplotlib inline"
   ]
  },
  {
   "cell_type": "markdown",
   "metadata": {},
   "source": [
    "## **Breadth First Search**\n",
    "\n"
   ]
  },
  {
   "cell_type": "code",
   "execution_count": 5,
   "metadata": {},
   "outputs": [],
   "source": [
    "# Create Link object\n",
    "# Each link has a head node (head), tail node (tail), and a cost.\n",
    "\n",
    "class Link():\n",
    "    def __init__(self, head, tail, cost):\n",
    "        '''\n",
    "        Each link has a head node (head), tail node (tail), and a cost.\n",
    "        head: [type: Node object | A node object as the start point of the link.]\n",
    "        tail: [type: Node object | A node object as the end point of the link.]\n",
    "        cost: [type: float, int | the cost of connection.]\n",
    "        '''\n",
    "        self.head = head\n",
    "        self.tail = tail\n",
    "        self.cost = cost"
   ]
  },
  {
   "cell_type": "code",
   "execution_count": 8,
   "metadata": {},
   "outputs": [],
   "source": [
    "# Create Node object\n",
    "# Each node has a name, and connections (links). Links have the name of destination node and the cost its cost.\n",
    "\n",
    "class Node():\n",
    "    def __init__(self, name= \"untitled\", successors =[]):\n",
    "        '''\n",
    "        Each node has a name, and connections (links). Links have the name of destination node and the cost its cost.\\n\n",
    "        name: [type: str | name of the current Node.]\\n\n",
    "        successors: [type: list | A list of dict objects with \"name\" and \"cost\"]\n",
    "        '''\n",
    "        self.name = name\n",
    "        self.successors = successors\n",
    "        self.links = [ Link(self.name, s.name, s.cost) for s in successors ]\n",
    "\n",
    "\n",
    "        \n",
    "\n"
   ]
  },
  {
   "cell_type": "code",
   "execution_count": 3,
   "metadata": {},
   "outputs": [],
   "source": [
    "# Create Tree object\n",
    "# Each Tree has a list of nodes and links \n",
    "\n",
    "class Tree():\n",
    "    def __init__(self, links):\n",
    "        '''\n",
    "        ach Tree has a list of nodes and links.\n",
    "        nodes: [type: list | list of Node objects. ]\n",
    "        links: [type: list | list of Link objects. ]\n",
    "        '''\n",
    "        self.nodes = []\n",
    "        self.links = links\n",
    "        self.create()\n",
    "    \n",
    "    def create(self):\n",
    "        tree_nodes = []\n",
    "        nodes_collection = []\n",
    "\n",
    "        for link in self.links:\n",
    "            nodes_collection.extend[link.head, link.tail]\n",
    "        \n",
    "        nodes_collection = list(set(nodes_collection)) # drop duplicates\n",
    "        \n",
    "        # create tree nodes\n",
    "        for n in nodes_collection:\n",
    "            self.nodes.append(\n",
    "                Node(n, [ link for link in self.link if link.head == n])\n",
    "            )\n",
    "    def visualize(self):\n",
    "        \n"
   ]
  },
  {
   "cell_type": "code",
   "execution_count": null,
   "metadata": {},
   "outputs": [],
   "source": [
    "# BFS algorithm\n",
    "\n",
    "class BFS():\n",
    "    def __init__(self, tree, origin, target, mode):\n",
    "        self.tree = tree\n",
    "        self.origin = origin\n",
    "        self.target = target\n",
    "        self.mode = mode\n",
    "        self.path = []\n",
    "        self.path_length = 0\n",
    "        self.path_cost = 0\n",
    "\n",
    "    def start(self):\n",
    "         path = []\n",
    "         length = 0\n",
    "         cost = 0\n",
    "         path.append(self.origin)\n",
    "         for dest in self.origin.destinations:\n",
    "\n",
    "    def _explore(self, node):\n",
    "        for destination in\n",
    "\n"
   ]
  }
 ],
 "metadata": {
  "kernelspec": {
   "display_name": "Python 3.10.6 64-bit",
   "language": "python",
   "name": "python3"
  },
  "language_info": {
   "codemirror_mode": {
    "name": "ipython",
    "version": 3
   },
   "file_extension": ".py",
   "mimetype": "text/x-python",
   "name": "python",
   "nbconvert_exporter": "python",
   "pygments_lexer": "ipython3",
   "version": "3.10.6"
  },
  "orig_nbformat": 4,
  "vscode": {
   "interpreter": {
    "hash": "aee8b7b246df8f9039afb4144a1f6fd8d2ca17a180786b69acc140d282b71a49"
   }
  }
 },
 "nbformat": 4,
 "nbformat_minor": 2
}
