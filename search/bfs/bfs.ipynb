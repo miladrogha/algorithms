{
 "cells": [
  {
   "cell_type": "code",
   "execution_count": 1,
   "metadata": {},
   "outputs": [],
   "source": [
    "import numpy as np\n",
    "import pandas as pd\n",
    "import matplotlib.pyplot as plt\n",
    "import plotly.graph_objs as go\n",
    "import datetime\n",
    "%matplotlib inline"
   ]
  },
  {
   "cell_type": "markdown",
   "metadata": {},
   "source": [
    "## **Breadth First Search**\n",
    "\n"
   ]
  },
  {
   "cell_type": "code",
   "execution_count": 2,
   "metadata": {},
   "outputs": [],
   "source": [
    "# Create Link object\n",
    "# Each link has a head node (head), tail node (tail), and a cost.\n",
    "\n",
    "class Link():\n",
    "    def __init__(self, head, tail, cost):\n",
    "        '''\n",
    "        Each link has a head node (head), tail node (tail), and a cost.\n",
    "        head: [type: Node object | A node object as the start point of the link.]\n",
    "        tail: [type: Node object | A node object as the end point of the link.]\n",
    "        cost: [type: float, int | the cost of connection.]\n",
    "        '''\n",
    "        self.head = head\n",
    "        self.tail = tail\n",
    "        self.cost = cost"
   ]
  },
  {
   "cell_type": "code",
   "execution_count": 3,
   "metadata": {},
   "outputs": [],
   "source": [
    "# Create Node object\n",
    "# Each node has a name, and connections (links). Links have the name of destination node and the cost its cost.\n",
    "\n",
    "class Node():\n",
    "    def __init__(self, name= \"untitled\", successors = {}, parents =[]):\n",
    "        '''\n",
    "        Each node has a name, and connections (links). Links have the name of destination node and the cost its cost.\\n\n",
    "        name: [type: str | name of the current Node.]\\n\n",
    "        successors: [type: Dict | A dict of dict objects with \"name\" and \"cost\"]\n",
    "        parent: [type: Dict | a dict of Node object(s)]\n",
    "        '''\n",
    "        self.name = name\n",
    "        self.successors = successors\n",
    "        self.parents = parents\n",
    "\n",
    "\n",
    "        \n",
    "\n"
   ]
  },
  {
   "cell_type": "code",
   "execution_count": 113,
   "metadata": {},
   "outputs": [],
   "source": [
    "# Create Tree object\n",
    "# Each Tree has a list of nodes and links \n",
    "\n",
    "class Tree():\n",
    "    def __init__(self, fpath=\"\", links=[]):\n",
    "        '''\n",
    "        Each Tree has a list of nodes and links.\n",
    "        nodes: [type: list | list of Node objects. ]\n",
    "        links: [type: list | list of Link objects. ]\n",
    "        '''\n",
    "        self.nodes = {}\n",
    "        self.root = None\n",
    "        self.links = None\n",
    "        self.fpath = fpath\n",
    "\n",
    "        if fpath:\n",
    "            self.read_file()\n",
    "        elif links:\n",
    "            self.links = links\n",
    "        else:\n",
    "            print('Not enough information to build Tree!')    \n",
    "        self.create()\n",
    "\n",
    "    def read_file(self):\n",
    "        links = []\n",
    "        with open(self.fpath, 'r') as f:\n",
    "            data = f.readlines()\n",
    "        for line in data:\n",
    "            head, tail, cost = line.replace('\\n',\"\").split()\n",
    "            cost = float(cost.strip(',').strip())\n",
    "            print(head, tail, cost)\n",
    "            link = Link(head.strip().lower(), tail.strip().lower, cost)\n",
    "            links.append(link)\n",
    "        self.links = links\n",
    "        print('Links: ', self.links)\n",
    "        # print(links)\n",
    "\n",
    "\n",
    "    def create(self):\n",
    "        tree_nodes = []\n",
    "        nodes_container = []\n",
    "        for link in self.links:\n",
    "            if link.head not in [item['name'] for item in nodes_container]:\n",
    "                nodes_container.append({'name': link.head, 'successors': {link.tail: link.cost}})\n",
    "            else:\n",
    "                new_info = {'name': link.head,\n",
    "                            'successors': {link.tail: link.cost}}\n",
    "                merger = {'name': \"\", 'successors': {}, 'parents': {} }\n",
    "                for item in nodes_container:\n",
    "                    if item['name'] == link.head:\n",
    "                        for key,value in item.items():\n",
    "                            if key in new_info.keys() and key != 'name':\n",
    "                                merger[key].update(new_info[key])\n",
    "                            else:\n",
    "                                merger[key] = new_info[key]\n",
    "                        nodes_container.append(merger)\n",
    "                        nodes_container.pop(item)\n",
    "        \n",
    "        for node in nodes_container:\n",
    "            if node.parents == []:\n",
    "                self.root = Node(node.name, node.successors, node.parents)\n",
    "            tree_nodes[node.name] = Node(node.name, node.successors, node.parents)\n",
    "        print('\\tnodesContainer: ',nodes_container)\n",
    "        print('\\t tree_nodes', tree_nodes)\n",
    "        print('Tree nodes created!')\n",
    "        return tree_nodes\n",
    "\n",
    "\n",
    "\n"
   ]
  },
  {
   "cell_type": "code",
   "execution_count": 114,
   "metadata": {},
   "outputs": [],
   "source": [
    "# BFS algorithm\n",
    "\n",
    "class BFS():\n",
    "    def __init__(self, tree):\n",
    "        self.tree = tree\n",
    "        self.origin = None\n",
    "        self.target = None\n",
    "        self.mode = 'default'\n",
    "        self.path = []\n",
    "        self.path_length = 0\n",
    "        self.path_cost = 0\n",
    "\n",
    "\n",
    "    def explore(self, origin= None, target= None , mode = 'default'):\n",
    "        \n",
    "        path = {\n",
    "            'map': [],\n",
    "            'length': 0,\n",
    "            'cost': 0}\n",
    "        self.origin = self.tree.nodes[origin]\n",
    "        self.target = self.tree.nodes[target]\n",
    "        unexplored = [self.origin]\n",
    "        visited = []\n",
    "\n",
    "        length =  0\n",
    "        cost = 0\n",
    "\n",
    "        while len(unexplored) > 0 :\n",
    "            if unexplored[0] != self.target:\n",
    "                node = unexplored[0]\n",
    "                if len(visited) > 0 :\n",
    "                    length += 1\n",
    "                    cost += visited[-1].parents[node]\n",
    "                unexplored.extend(self.tree.nodes[node].successors)\n",
    "                visited.append(node)\n",
    "                unexplored.pop(node)\n",
    "            else:\n",
    "                visited.append(node)\n",
    "                print('Target found!')\n",
    "                print('Path is: {visited}')\n",
    "                print('Length is: {length}')\n",
    "                print('Cost is: {cost}')\n",
    "        path['map'] = visited\n",
    "        path[\"length\"] = length\n",
    "        path['cost'] = cost\n",
    "\n",
    "        return path"
   ]
  },
  {
   "cell_type": "code",
   "execution_count": 115,
   "metadata": {},
   "outputs": [
    {
     "name": "stdout",
     "output_type": "stream",
     "text": [
      "S A 5.0\n",
      "S B 2.0\n",
      "S C 4.0\n",
      "A D 9.0\n",
      "A E 4.0\n",
      "B G 6.0\n",
      "C F 2.0\n",
      "D H 7.0\n",
      "E G 6.0\n",
      "G F 1.0\n",
      "Links:  [<__main__.Link object at 0x7f9c144b8ee0>, <__main__.Link object at 0x7f9c144b8fd0>, <__main__.Link object at 0x7f9c145bbd60>, <__main__.Link object at 0x7f9c145bbeb0>, <__main__.Link object at 0x7f9c145bba00>, <__main__.Link object at 0x7f9c145bbac0>, <__main__.Link object at 0x7f9c145bb4c0>, <__main__.Link object at 0x7f9c145bb100>, <__main__.Link object at 0x7f9c145bbf10>, <__main__.Link object at 0x7f9c145e4880>]\n"
     ]
    },
    {
     "ename": "TypeError",
     "evalue": "'dict' object cannot be interpreted as an integer",
     "output_type": "error",
     "traceback": [
      "\u001b[0;31m---------------------------------------------------------------------------\u001b[0m",
      "\u001b[0;31mTypeError\u001b[0m                                 Traceback (most recent call last)",
      "Cell \u001b[0;32mIn [115], line 1\u001b[0m\n\u001b[0;32m----> 1\u001b[0m test_tree \u001b[38;5;241m=\u001b[39m \u001b[43mTree\u001b[49m\u001b[43m(\u001b[49m\u001b[38;5;124;43m'\u001b[39;49m\u001b[38;5;124;43m./bfs-sample.txt\u001b[39;49m\u001b[38;5;124;43m'\u001b[39;49m\u001b[43m)\u001b[49m\n\u001b[1;32m      2\u001b[0m bfs \u001b[38;5;241m=\u001b[39m BFS(test_tree)\n",
      "Cell \u001b[0;32mIn [113], line 22\u001b[0m, in \u001b[0;36mTree.__init__\u001b[0;34m(self, fpath, links)\u001b[0m\n\u001b[1;32m     20\u001b[0m \u001b[38;5;28;01melse\u001b[39;00m:\n\u001b[1;32m     21\u001b[0m     \u001b[38;5;28mprint\u001b[39m(\u001b[38;5;124m'\u001b[39m\u001b[38;5;124mNot enough information to build Tree!\u001b[39m\u001b[38;5;124m'\u001b[39m)    \n\u001b[0;32m---> 22\u001b[0m \u001b[38;5;28;43mself\u001b[39;49m\u001b[38;5;241;43m.\u001b[39;49m\u001b[43mcreate\u001b[49m\u001b[43m(\u001b[49m\u001b[43m)\u001b[49m\n",
      "Cell \u001b[0;32mIn [113], line 57\u001b[0m, in \u001b[0;36mTree.create\u001b[0;34m(self)\u001b[0m\n\u001b[1;32m     55\u001b[0m                         merger[key] \u001b[38;5;241m=\u001b[39m new_info[key]\n\u001b[1;32m     56\u001b[0m                 nodes_container\u001b[38;5;241m.\u001b[39mappend(merger)\n\u001b[0;32m---> 57\u001b[0m                 \u001b[43mnodes_container\u001b[49m\u001b[38;5;241;43m.\u001b[39;49m\u001b[43mpop\u001b[49m\u001b[43m(\u001b[49m\u001b[43mitem\u001b[49m\u001b[43m)\u001b[49m\n\u001b[1;32m     59\u001b[0m \u001b[38;5;28;01mfor\u001b[39;00m node \u001b[38;5;129;01min\u001b[39;00m nodes_container:\n\u001b[1;32m     60\u001b[0m     \u001b[38;5;28;01mif\u001b[39;00m node\u001b[38;5;241m.\u001b[39mparents \u001b[38;5;241m==\u001b[39m []:\n",
      "\u001b[0;31mTypeError\u001b[0m: 'dict' object cannot be interpreted as an integer"
     ]
    }
   ],
   "source": [
    "test_tree = Tree('./bfs-sample.txt')\n",
    "bfs = BFS(test_tree)"
   ]
  },
  {
   "cell_type": "code",
   "execution_count": 95,
   "metadata": {},
   "outputs": [
    {
     "ename": "KeyError",
     "evalue": "'s'",
     "output_type": "error",
     "traceback": [
      "\u001b[0;31m---------------------------------------------------------------------------\u001b[0m",
      "\u001b[0;31mKeyError\u001b[0m                                  Traceback (most recent call last)",
      "Cell \u001b[0;32mIn [95], line 1\u001b[0m\n\u001b[0;32m----> 1\u001b[0m \u001b[43mbfs\u001b[49m\u001b[38;5;241;43m.\u001b[39;49m\u001b[43mexplore\u001b[49m\u001b[43m(\u001b[49m\u001b[38;5;124;43m'\u001b[39;49m\u001b[38;5;124;43ms\u001b[39;49m\u001b[38;5;124;43m'\u001b[39;49m\u001b[43m,\u001b[49m\u001b[38;5;124;43m'\u001b[39;49m\u001b[38;5;124;43mg\u001b[39;49m\u001b[38;5;124;43m'\u001b[39;49m\u001b[43m,\u001b[49m\u001b[38;5;124;43m'\u001b[39;49m\u001b[38;5;124;43mdefault\u001b[39;49m\u001b[38;5;124;43m'\u001b[39;49m\u001b[43m)\u001b[49m\n",
      "Cell \u001b[0;32mIn [90], line 20\u001b[0m, in \u001b[0;36mBFS.explore\u001b[0;34m(self, origin, target, mode)\u001b[0m\n\u001b[1;32m     14\u001b[0m \u001b[38;5;28;01mdef\u001b[39;00m \u001b[38;5;21mexplore\u001b[39m(\u001b[38;5;28mself\u001b[39m, origin\u001b[38;5;241m=\u001b[39m \u001b[38;5;28;01mNone\u001b[39;00m, target\u001b[38;5;241m=\u001b[39m \u001b[38;5;28;01mNone\u001b[39;00m , mode \u001b[38;5;241m=\u001b[39m \u001b[38;5;124m'\u001b[39m\u001b[38;5;124mdefault\u001b[39m\u001b[38;5;124m'\u001b[39m):\n\u001b[1;32m     16\u001b[0m     path \u001b[38;5;241m=\u001b[39m {\n\u001b[1;32m     17\u001b[0m         \u001b[38;5;124m'\u001b[39m\u001b[38;5;124mmap\u001b[39m\u001b[38;5;124m'\u001b[39m: [],\n\u001b[1;32m     18\u001b[0m         \u001b[38;5;124m'\u001b[39m\u001b[38;5;124mlength\u001b[39m\u001b[38;5;124m'\u001b[39m: \u001b[38;5;241m0\u001b[39m,\n\u001b[1;32m     19\u001b[0m         \u001b[38;5;124m'\u001b[39m\u001b[38;5;124mcost\u001b[39m\u001b[38;5;124m'\u001b[39m: \u001b[38;5;241m0\u001b[39m}\n\u001b[0;32m---> 20\u001b[0m     \u001b[38;5;28mself\u001b[39m\u001b[38;5;241m.\u001b[39morigin \u001b[38;5;241m=\u001b[39m \u001b[38;5;28;43mself\u001b[39;49m\u001b[38;5;241;43m.\u001b[39;49m\u001b[43mtree\u001b[49m\u001b[38;5;241;43m.\u001b[39;49m\u001b[43mnodes\u001b[49m\u001b[43m[\u001b[49m\u001b[43morigin\u001b[49m\u001b[43m]\u001b[49m\n\u001b[1;32m     21\u001b[0m     \u001b[38;5;28mself\u001b[39m\u001b[38;5;241m.\u001b[39mtarget \u001b[38;5;241m=\u001b[39m \u001b[38;5;28mself\u001b[39m\u001b[38;5;241m.\u001b[39mtree\u001b[38;5;241m.\u001b[39mnodes[target]\n\u001b[1;32m     23\u001b[0m     unexplored \u001b[38;5;241m=\u001b[39m [\u001b[38;5;28mself\u001b[39m\u001b[38;5;241m.\u001b[39morigin]\n",
      "\u001b[0;31mKeyError\u001b[0m: 's'"
     ]
    }
   ],
   "source": [
    "bfs.explore('s','g','default')"
   ]
  },
  {
   "cell_type": "code",
   "execution_count": null,
   "metadata": {},
   "outputs": [],
   "source": []
  }
 ],
 "metadata": {
  "kernelspec": {
   "display_name": "Python 3.10.6 64-bit",
   "language": "python",
   "name": "python3"
  },
  "language_info": {
   "codemirror_mode": {
    "name": "ipython",
    "version": 3
   },
   "file_extension": ".py",
   "mimetype": "text/x-python",
   "name": "python",
   "nbconvert_exporter": "python",
   "pygments_lexer": "ipython3",
   "version": "3.10.6"
  },
  "orig_nbformat": 4,
  "vscode": {
   "interpreter": {
    "hash": "aee8b7b246df8f9039afb4144a1f6fd8d2ca17a180786b69acc140d282b71a49"
   }
  }
 },
 "nbformat": 4,
 "nbformat_minor": 2
}
