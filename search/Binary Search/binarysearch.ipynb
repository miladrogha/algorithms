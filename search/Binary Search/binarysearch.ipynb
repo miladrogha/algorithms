{
 "cells": [
  {
   "cell_type": "markdown",
   "metadata": {},
   "source": [
    "### Binary Search ###"
   ]
  },
  {
   "cell_type": "markdown",
   "metadata": {},
   "source": [
    "Notes:\n",
    "1. Binary Search only takesworks when the input is *Sorted*.\n",
    "2. time complexity: $`\\log(n)`$.\n",
    "3. Formula to find the middle of range: $`mid = \\frac{(h_b - l_b)}2`$\n",
    "4. Python automatically round  down mid when using `\\\\`.\n",
    " "
   ]
  },
  {
   "cell_type": "code",
   "execution_count": null,
   "metadata": {},
   "outputs": [],
   "source": [
    "def binary_search(arr:list=None, target:int=None)->int|None:\n",
    "    l_bound = 0                                 # lower boundary pointer\n",
    "    h_bound = len(arr) - 1                      # higher boundary pointer\n",
    "    while l_bound <= h_bound:                   # continue until finding target\n",
    "        mid = (l_bound + h_bound) // 2          # mid point\n",
    "        guess = arr[mid]\n",
    "        print(f\"{l_bound}  {h_bound}\")\n",
    "        if guess == target:\n",
    "            return mid\n",
    "        elif guess < target:                    # if target is higher than the middle of the array\n",
    "            l_bound = mid + 1                   # update the lower bound\n",
    "        else :                                  # if the target is lwoer than the middle of the array\n",
    "            h_bound = mid                       # update the lower bound     \n",
    "    return mid"
   ]
  },
  {
   "cell_type": "code",
   "execution_count": 33,
   "metadata": {},
   "outputs": [
    {
     "name": "stdout",
     "output_type": "stream",
     "text": [
      "0  10\n",
      "0  5\n",
      "3  5\n",
      "3  4\n"
     ]
    },
    {
     "data": {
      "text/plain": [
       "3"
      ]
     },
     "execution_count": 33,
     "metadata": {},
     "output_type": "execute_result"
    }
   ],
   "source": [
    "binary_search([1,1,3,7,8,45,50,54,76,88,101], 7 )"
   ]
  }
 ],
 "metadata": {
  "kernelspec": {
   "display_name": ".venv",
   "language": "python",
   "name": "python3"
  },
  "language_info": {
   "codemirror_mode": {
    "name": "ipython",
    "version": 3
   },
   "file_extension": ".py",
   "mimetype": "text/x-python",
   "name": "python",
   "nbconvert_exporter": "python",
   "pygments_lexer": "ipython3",
   "version": "3.12.2"
  }
 },
 "nbformat": 4,
 "nbformat_minor": 2
}
