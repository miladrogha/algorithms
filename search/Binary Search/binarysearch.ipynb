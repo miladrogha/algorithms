{
 "cells": [
  {
   "cell_type": "markdown",
   "metadata": {},
   "source": [
    "### Binary Search ###"
   ]
  },
  {
   "cell_type": "markdown",
   "metadata": {},
   "source": [
    "Notes:\n",
    "1. Binary Search only takesworks when the input is *Sorted*.\n",
    "2. time complexity: $`\\log(n)`$.\n",
    "3. Formula to find the middle of range: $`mid = \\frac{(h_b - l_b)}2`$\n",
    "4. Python automatically round  down mid when using `\\\\`.\n",
    " "
   ]
  },
  {
   "cell_type": "code",
   "execution_count": null,
   "metadata": {},
   "outputs": [],
   "source": [
    "def binary_search(arr:list=None, target:int=None)->int|None:\n",
    "    l_bound = 0                                 # lower boundary pointer\n",
    "    h_bound = len(arr) - 1                      # higher boundary pointer\n",
    "    step = 1\n",
    "    while l_bound <= h_bound:                   # continue until finding target\n",
    "        mid = (l_bound + h_bound) // 2          # mid point\n",
    "        guess = arr[mid]                        # assign the mid element as our guess\n",
    "        print(f\"step {step} guess:{guess} {arr[l_bound:h_bound]}\")    # Log the steps taken (OPTIONAL)\n",
    "        if guess == target:                     # if guess == target\n",
    "            return mid                          # return guess index (or mid point)\n",
    "        elif guess < target:                    # if target is higher than the middle of the array\n",
    "            l_bound = mid + 1                   # update the lower bound\n",
    "        else :                                  # if the target is lwoer than the middle of the array\n",
    "            h_bound = mid                       # update the lower bound     \n",
    "        step += 1\n",
    "    return mid"
   ]
  },
  {
   "cell_type": "code",
   "execution_count": 49,
   "metadata": {},
   "outputs": [
    {
     "name": "stdout",
     "output_type": "stream",
     "text": [
      "step 1 guess:7 [1, 2, 3, 7, 8, 45, 50]\n",
      "step 2 guess:2 [1, 2, 3]\n",
      "step 3 guess:1 [1]\n"
     ]
    },
    {
     "data": {
      "text/plain": [
       "0"
      ]
     },
     "execution_count": 49,
     "metadata": {},
     "output_type": "execute_result"
    }
   ],
   "source": [
    "binary_search([1,2,3,7,8,45,50,54], 1 )"
   ]
  },
  {
   "cell_type": "code",
   "execution_count": null,
   "metadata": {},
   "outputs": [],
   "source": []
  }
 ],
 "metadata": {
  "kernelspec": {
   "display_name": ".venv",
   "language": "python",
   "name": "python3"
  },
  "language_info": {
   "codemirror_mode": {
    "name": "ipython",
    "version": 3
   },
   "file_extension": ".py",
   "mimetype": "text/x-python",
   "name": "python",
   "nbconvert_exporter": "python",
   "pygments_lexer": "ipython3",
   "version": "3.12.2"
  }
 },
 "nbformat": 4,
 "nbformat_minor": 2
}
