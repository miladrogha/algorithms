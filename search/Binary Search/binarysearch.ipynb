{
 "cells": [
  {
   "cell_type": "markdown",
   "metadata": {},
   "source": [
    "### Binary Search ###"
   ]
  },
  {
   "cell_type": "markdown",
   "metadata": {},
   "source": [
    "Notes:\n",
    "1. Binary Search only takesworks when the input is *Sorted*.\n",
    "2. time complexity: $`\\log(n)`$.\n",
    "3. Formula to find the middle of range: $`mid = \\frac{(h_b - l_b)}2`$  \n",
    "    **note:** To prevent overflow crash, you cna find mid this way:  $`mid = l_b + \\frac{(h_b - l_b)}2`$\n",
    "4. Python automatically round  down mid when using `\\\\`.\n",
    " "
   ]
  },
  {
   "cell_type": "code",
   "execution_count": null,
   "metadata": {},
   "outputs": [],
   "source": [
    "def binary_search(arr:list=None, target:int=None)->int|None:\n",
    "    l_bound = 0                                     # initialize lower boundary pointer\n",
    "    h_bound = len(arr) - 1                          # initialize higher boundary pointer\n",
    "    step = 1                                        # Step to log the steps taken\n",
    "    while l_bound <= h_bound:                       # continue until finding target\n",
    "        mid = l_bound + ((h_bound - l_bound) // 2)  # mid point => A better way of (l_bound + h_bound) // 2   \n",
    "        guess = arr[mid]                            # assign the mid element as our guess\n",
    "        print(f\"step {step} guess:{guess} {arr[l_bound:h_bound]}\")    # Log the steps taken (OPTIONAL)\n",
    "        if guess == target:                         # if guess == target\n",
    "            return mid                              # return guess index (or mid point)\n",
    "        elif guess < target:                        # if target is higher than the middle of the array\n",
    "            l_bound = mid + 1                       # update the lower bound\n",
    "        else :                                      # if the target is lwoer than the middle of the array\n",
    "            h_bound = mid - 1                       # update the lower bound     \n",
    "        step += 1\n",
    "    return -1                                       # If target is not found !"
   ]
  }
 ],
 "metadata": {
  "kernelspec": {
   "display_name": ".venv",
   "language": "python",
   "name": "python3"
  },
  "language_info": {
   "codemirror_mode": {
    "name": "ipython",
    "version": 3
   },
   "file_extension": ".py",
   "mimetype": "text/x-python",
   "name": "python",
   "nbconvert_exporter": "python",
   "pygments_lexer": "ipython3",
   "version": "3.12.6"
  }
 },
 "nbformat": 4,
 "nbformat_minor": 2
}
