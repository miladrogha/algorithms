{
 "cells": [
  {
   "cell_type": "markdown",
   "metadata": {},
   "source": [
    "### Merge Sort ###\n",
    "\n",
    "1. Merge sort uses Divide and Conquer (D&Q) technique to sort an array of numbers.\n",
    "2. Its **TIME** complexity is $`O(n\\log(n))`$\n",
    "3. Its **SPACE** complexity is $`O(n)`$\n"
   ]
  },
  {
   "cell_type": "code",
   "execution_count": 9,
   "metadata": {},
   "outputs": [],
   "source": [
    "from typing import List\n",
    "def mergeSort(nums:List[int]):\n",
    "    '''\n",
    "    [1,5,8,3,2,6]\n",
    "    [1,5,8] [3,2,6]\n",
    "    [1] [5,8] [3] [2,6]\n",
    "        [5] [8]\n",
    "    '''\n",
    "    # Divide\n",
    "    if len(nums) > 1:\n",
    "        mid = len(nums) // 2\n",
    "        left = nums[ : mid]\n",
    "        right = nums[mid : ]\n",
    "\n",
    "        mergeSort(left)\n",
    "        mergeSort(right)\n",
    "\n",
    "        i = j = k = 0\n",
    "        # Conquer\n",
    "        while (i < len(left)) and (j < len(right)):\n",
    "            if left[i] < right[j]:\n",
    "                nums[k] = left[i]\n",
    "                i += 1\n",
    "            else:\n",
    "                nums[k] = right[j]\n",
    "                j += 1\n",
    "            k += 1\n",
    "\n",
    "        while i < len(left):\n",
    "            nums[k] = left[i]\n",
    "            i += 1\n",
    "            k += 1  \n",
    "\n",
    "        while j < len(right):\n",
    "            nums[k] = right[j]\n",
    "            j += 1\n",
    "            k += 1\n",
    "        return nums"
   ]
  },
  {
   "cell_type": "code",
   "execution_count": 10,
   "metadata": {},
   "outputs": [],
   "source": [
    "testcase = [ 2,5,1,8,3,6,8,0,1]"
   ]
  },
  {
   "cell_type": "code",
   "execution_count": 11,
   "metadata": {},
   "outputs": [
    {
     "data": {
      "text/plain": [
       "[0, 1, 1, 2, 3, 5, 6, 8, 8]"
      ]
     },
     "execution_count": 11,
     "metadata": {},
     "output_type": "execute_result"
    }
   ],
   "source": [
    "mergeSort(testcase)"
   ]
  },
  {
   "cell_type": "code",
   "execution_count": null,
   "metadata": {},
   "outputs": [],
   "source": []
  }
 ],
 "metadata": {
  "kernelspec": {
   "display_name": ".venv",
   "language": "python",
   "name": "python3"
  },
  "language_info": {
   "codemirror_mode": {
    "name": "ipython",
    "version": 3
   },
   "file_extension": ".py",
   "mimetype": "text/x-python",
   "name": "python",
   "nbconvert_exporter": "python",
   "pygments_lexer": "ipython3",
   "version": "3.12.6"
  }
 },
 "nbformat": 4,
 "nbformat_minor": 2
}
