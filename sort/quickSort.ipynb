{
 "cells": [
  {
   "cell_type": "markdown",
   "metadata": {},
   "source": [
    "### Quicksort ###\n",
    "\n",
    "1. Using a `pivot`, and compare elements of the array with it.\n",
    "2. It is a recursive algorithm.\n",
    "3. Its running time can reach $`O(n^2)`$ for the worst case but in average its running time is $`O(n\\log(n))`$.\n",
    "   **note*:** its time complexity is calculated by the number of recursive calls it makes.\n",
    "4. Pick a random pivot helps with avoiding the worst case to happen, as much as possible.\n",
    "5. Usually pick the median as the `pivot` is the best approach, since finding the median can happen in linear time ($`O(n)`$).\n",
    "6. Quicksort always partition the array into **3** subarrays: *`lower_than_pivot`*, *`pivot`*, *`higher_than_pivot`*"
   ]
  },
  {
   "cell_type": "code",
   "execution_count": 15,
   "metadata": {},
   "outputs": [],
   "source": [
    "def quicksort(arr:list)->list:\n",
    "    \n",
    "    # implement recursion stop check\n",
    "    if len(arr) < 1 :\n",
    "        return arr\n",
    "    pivot = arr.pop()\n",
    "    to_the_left = []\n",
    "    to_the_right = []\n",
    "\n",
    "    for element in arr:\n",
    "        if element < pivot:\n",
    "            to_the_left.append(element)\n",
    "        else:\n",
    "            to_the_right.append(element)\n",
    "    \n",
    "    return quicksort(to_the_left) + [pivot] + quicksort(to_the_right)"
   ]
  },
  {
   "cell_type": "code",
   "execution_count": 16,
   "metadata": {},
   "outputs": [],
   "source": [
    "test_case = [43,756,12,4,6,98,54,98,32,1,2,4,6,9]"
   ]
  },
  {
   "cell_type": "code",
   "execution_count": 17,
   "metadata": {},
   "outputs": [
    {
     "data": {
      "text/plain": [
       "[1, 2, 4, 4, 6, 6, 9, 12, 32, 43, 54, 98, 98, 756]"
      ]
     },
     "execution_count": 17,
     "metadata": {},
     "output_type": "execute_result"
    }
   ],
   "source": [
    "quicksort(test_case)"
   ]
  }
 ],
 "metadata": {
  "kernelspec": {
   "display_name": ".venv",
   "language": "python",
   "name": "python3"
  },
  "language_info": {
   "codemirror_mode": {
    "name": "ipython",
    "version": 3
   },
   "file_extension": ".py",
   "mimetype": "text/x-python",
   "name": "python",
   "nbconvert_exporter": "python",
   "pygments_lexer": "ipython3",
   "version": "3.12.6"
  }
 },
 "nbformat": 4,
 "nbformat_minor": 2
}
