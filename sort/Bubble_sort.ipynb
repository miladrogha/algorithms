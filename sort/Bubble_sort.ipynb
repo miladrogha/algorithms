{
 "cells": [
  {
   "cell_type": "markdown",
   "metadata": {
    "slideshow": {
     "slide_type": "notes"
    }
   },
   "source": [
    "### Bubble Sort ###\n",
    "\n",
    "1. Iterate over the list.\n",
    "2. Each time sort a pair of elements and shrink the length of unchecked.  \n",
    "   **note:** In each iteration the largest goes to the end of the array, so no need to check in the next iteration.  \n",
    "3. Repeat until all elements are sorted.\n",
    "4. Has ***quadratic*** time complexity: $`O(n^2)`$\n",
    "\n",
    "\n",
    "![Bubble Sort illustrated]('https://www.lavivienpost.net/wp-content/uploads/2022/01/bubble-640.gif') from [La Vivien Post]('https://www.lavivienpost.net/bubble-sort-gif/)"
   ]
  },
  {
   "cell_type": "code",
   "execution_count": null,
   "metadata": {},
   "outputs": [],
   "source": [
    "from typing import List \n",
    "# Bubble sort\n",
    "def BubbleSort(nums:List[int])->List[int]:\n",
    "    n = len(nums)   # Store length of the array\n",
    "    print(nums)\n",
    "    for i in range(n):      # For each element in the array\n",
    "        print([nums[i]])\n",
    "        for j in range(n - i - 1): # Go over all items except the one sorted in the previous iteration\n",
    "            if nums[j] > nums[j+1]:         # Swap those not in order -> put the largest at the end of sequence.\n",
    "                print('  -->',[nums[j], nums[j+1]], end=\"->\")\n",
    "                nums[j], nums[j+1] = nums[j+1], nums[j]\n",
    "                print([nums[j], nums[j+1]])\n",
    "        print(nums)\n",
    "    return nums            \n"
   ]
  },
  {
   "cell_type": "code",
   "execution_count": 68,
   "metadata": {},
   "outputs": [],
   "source": [
    "testcase = [9,4,7,0,5,1,4] "
   ]
  },
  {
   "cell_type": "code",
   "execution_count": 69,
   "metadata": {},
   "outputs": [
    {
     "name": "stdout",
     "output_type": "stream",
     "text": [
      "[9, 4, 7, 0, 5, 1, 4]\n",
      "[9]\n",
      "  --> [9, 4]->[4, 9]\n",
      "  --> [9, 7]->[7, 9]\n",
      "  --> [9, 0]->[0, 9]\n",
      "  --> [9, 5]->[5, 9]\n",
      "  --> [9, 1]->[1, 9]\n",
      "  --> [9, 4]->[4, 9]\n",
      "[4, 7, 0, 5, 1, 4, 9]\n",
      "[7]\n",
      "  --> [7, 0]->[0, 7]\n",
      "  --> [7, 5]->[5, 7]\n",
      "  --> [7, 1]->[1, 7]\n",
      "  --> [7, 4]->[4, 7]\n",
      "[4, 0, 5, 1, 4, 7, 9]\n",
      "[5]\n",
      "  --> [4, 0]->[0, 4]\n",
      "  --> [5, 1]->[1, 5]\n",
      "  --> [5, 4]->[4, 5]\n",
      "[0, 4, 1, 4, 5, 7, 9]\n",
      "[4]\n",
      "  --> [4, 1]->[1, 4]\n",
      "[0, 1, 4, 4, 5, 7, 9]\n",
      "[5]\n",
      "[0, 1, 4, 4, 5, 7, 9]\n",
      "[7]\n",
      "[0, 1, 4, 4, 5, 7, 9]\n",
      "[9]\n",
      "[0, 1, 4, 4, 5, 7, 9]\n"
     ]
    },
    {
     "data": {
      "text/plain": [
       "[0, 1, 4, 4, 5, 7, 9]"
      ]
     },
     "execution_count": 69,
     "metadata": {},
     "output_type": "execute_result"
    }
   ],
   "source": [
    "BubbleSort(testcase)"
   ]
  },
  {
   "cell_type": "code",
   "execution_count": 70,
   "metadata": {},
   "outputs": [],
   "source": [
    "from typing import List \n",
    "# Bubble sort\n",
    "def BubbleSort_efficient(nums:List[int])->List[int]:\n",
    "    n = len(nums)   # Store length of the array\n",
    "    print(nums)\n",
    "    for i in range(n):\n",
    "        print([nums[i]])\n",
    "        n_swaps = 0\n",
    "        for j in range(n - i - 1):\n",
    "            if nums[j] > nums[j+1]:\n",
    "                print('  -->',[nums[j], nums[j+1]], end=\"->\")\n",
    "                nums[j], nums[j+1] = nums[j+1], nums[j]\n",
    "                n_swaps += 1\n",
    "                print([nums[j], nums[j+1]])\n",
    "        print(nums)\n",
    "        if n_swaps == 0:\n",
    "            return nums\n",
    "        n_swaps = 0\n",
    "    return nums            \n"
   ]
  },
  {
   "cell_type": "code",
   "execution_count": 71,
   "metadata": {},
   "outputs": [
    {
     "name": "stdout",
     "output_type": "stream",
     "text": [
      "[0, 1, 4, 4, 5, 7, 9]\n",
      "[0]\n",
      "[0, 1, 4, 4, 5, 7, 9]\n"
     ]
    },
    {
     "data": {
      "text/plain": [
       "[0, 1, 4, 4, 5, 7, 9]"
      ]
     },
     "execution_count": 71,
     "metadata": {},
     "output_type": "execute_result"
    }
   ],
   "source": [
    "BubbleSort_efficient(testcase)"
   ]
  },
  {
   "cell_type": "code",
   "execution_count": null,
   "metadata": {},
   "outputs": [],
   "source": []
  }
 ],
 "metadata": {
  "kernelspec": {
   "display_name": ".venv",
   "language": "python",
   "name": "python3"
  },
  "language_info": {
   "codemirror_mode": {
    "name": "ipython",
    "version": 3
   },
   "file_extension": ".py",
   "mimetype": "text/x-python",
   "name": "python",
   "nbconvert_exporter": "python",
   "pygments_lexer": "ipython3",
   "version": "3.12.6"
  }
 },
 "nbformat": 4,
 "nbformat_minor": 2
}
