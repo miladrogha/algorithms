{
 "cells": [
  {
   "cell_type": "markdown",
   "metadata": {},
   "source": [
    "## PREP ##\n",
    "\n",
    "In this notebook, most common coding pattterns for alogrithm questions are reviewed.   \n",
    "The notebook also discuss `Cracking The Code Interview` (CTCI) questions. "
   ]
  },
  {
   "cell_type": "code",
   "execution_count": 6,
   "metadata": {},
   "outputs": [],
   "source": [
    "# Testing function\n",
    "\n",
    "def testAlgo(algo, testcases:list, correctAnswers:list)-> list:\n",
    "    results = []\n",
    "    passed = failed = 0\n",
    "\n",
    "    for i, item in enumerate(list(zip(testcases, correctAnswers))):\n",
    "        if algo(item[0]) == item[1]:\n",
    "            res = f\" [case {i}] \\u2713 ... passed!\"\n",
    "            passed += 1\n",
    "        else:\n",
    "            res = f\" [case {i}] \\u2717 ... failed!\"\n",
    "            failed += 1\n",
    "        results.append(res)\n",
    "    \n",
    "    print(f\" Passed {passed} / {len(testcases)} cases.\")\n",
    "\n",
    "    for item in results:\n",
    "        print(item)\n",
    "\n"
   ]
  },
  {
   "cell_type": "markdown",
   "metadata": {},
   "source": [
    "### STRINGS ###"
   ]
  },
  {
   "cell_type": "code",
   "execution_count": 1,
   "metadata": {},
   "outputs": [],
   "source": [
    "s = 'absbsbabababahhebsehe'"
   ]
  },
  {
   "cell_type": "code",
   "execution_count": null,
   "metadata": {},
   "outputs": [
    {
     "name": "stdout",
     "output_type": "stream",
     "text": [
      "21\n",
      "b\n",
      "['a', 'b', 's', 'b', 's', 'b', 'a', 'b', 'a', 'b', 'a', 'b', 'a', 'h', 'h', 'e', 'b', 's', 'e', 'h', 'e']\n"
     ]
    }
   ],
   "source": [
    "# String methods #\n",
    "\n",
    "# length of string\n",
    "print(len(s))\n",
    "\n",
    "#indexing item\n",
    "print(s[3])\n",
    "\n",
    "#string to list\n",
    "print([c for c in s])\n"
   ]
  },
  {
   "cell_type": "markdown",
   "metadata": {},
   "source": [
    "#### `CTCI-ch1-q1.1` ####"
   ]
  },
  {
   "cell_type": "code",
   "execution_count": 17,
   "metadata": {},
   "outputs": [],
   "source": [
    "# Question: IsUnique\n",
    "# If a string has all unique characters\n",
    "# You cannot use additional data-structures.\n",
    "\n",
    "def isUnique(s:str) -> bool:\n",
    "    i = j = 0\n",
    "\n",
    "    while i in range(len(s)):\n",
    "        if s[i] in s[:i]:\n",
    "            j += 1\n",
    "        i += 1\n",
    "    if s[j:i] == s:\n",
    "        return True\n",
    "    else:\n",
    "        return False"
   ]
  },
  {
   "cell_type": "code",
   "execution_count": 19,
   "metadata": {},
   "outputs": [
    {
     "name": "stdout",
     "output_type": "stream",
     "text": [
      " Passed 4 / 4 cases.\n",
      " [case 0] ✓ ... passed!\n",
      " [case 1] ✓ ... passed!\n",
      " [case 2] ✓ ... passed!\n",
      " [case 3] ✓ ... passed!\n"
     ]
    }
   ],
   "source": [
    "# test case format: [testcase, correctAnswer]\n",
    "testcases = ['abc', 'aaabbbc', '', 'afgvirmeoa']\n",
    "cAnsws = [True, False, True, False]\n",
    "\n",
    "testAlgo(isUnique, testcases=testcases, correctAnswers=cAnsws)"
   ]
  },
  {
   "cell_type": "markdown",
   "metadata": {},
   "source": [
    "### Arrays / Lists ###"
   ]
  },
  {
   "cell_type": "code",
   "execution_count": 4,
   "metadata": {},
   "outputs": [],
   "source": [
    "nums = [1,6,3,56,8,9,4,3,6,8,9,6,4,3,0]"
   ]
  },
  {
   "cell_type": "code",
   "execution_count": 21,
   "metadata": {},
   "outputs": [
    {
     "data": {
      "text/plain": [
       "[]"
      ]
     },
     "execution_count": 21,
     "metadata": {},
     "output_type": "execute_result"
    }
   ],
   "source": [
    "nums[2:2]"
   ]
  },
  {
   "cell_type": "code",
   "execution_count": 99,
   "metadata": {},
   "outputs": [
    {
     "data": {
      "text/plain": [
       "[1, 0, 0]"
      ]
     },
     "execution_count": 99,
     "metadata": {},
     "output_type": "execute_result"
    }
   ],
   "source": [
    "nums = [0,0,1]\n",
    "\n",
    "writer = reader = 0\n",
    "counter = 0\n",
    "while reader < len(nums):\n",
    "    if nums[reader] == 0:\n",
    "\n",
    "        counter += 1\n",
    "        reader += 1\n",
    "    else:\n",
    "        nums[writer] = nums[reader]\n",
    "        writer += 1\n",
    "        reader += 1\n",
    "\n",
    "nums[writer:] = [0] * counter\n",
    "     \n",
    "            \n",
    "nums"
   ]
  },
  {
   "cell_type": "code",
   "execution_count": null,
   "metadata": {},
   "outputs": [],
   "source": [
    "def compress(chars:list) -> int:\n",
    "    \n",
    "    char_count = {}\n",
    "\n",
    "    for item in chars:\n",
    "        if item in char_count.keys():\n",
    "            char_count[item] += 1\n",
    "        else:\n",
    "            char_count[item] = 1\n",
    "    \n",
    "    chars = \",\".join([ c+','+str(val) for c,val in char_count.items()])\n",
    "    chars = chars.split(',')\n",
    "    print(chars)\n",
    "    return len(chars)\n"
   ]
  },
  {
   "cell_type": "code",
   "execution_count": 55,
   "metadata": {},
   "outputs": [],
   "source": [
    "testcases = [[\"a\",\"a\",\"b\",\"b\",\"c\",\"c\",\"c\"]]"
   ]
  },
  {
   "cell_type": "code",
   "execution_count": 56,
   "metadata": {},
   "outputs": [
    {
     "name": "stdout",
     "output_type": "stream",
     "text": [
      "['a', '2', 'b', '2', 'c', '3']\n"
     ]
    },
    {
     "ename": "NameError",
     "evalue": "name 's' is not defined",
     "output_type": "error",
     "traceback": [
      "\u001b[1;31m---------------------------------------------------------------------------\u001b[0m",
      "\u001b[1;31mNameError\u001b[0m                                 Traceback (most recent call last)",
      "Cell \u001b[1;32mIn[56], line 1\u001b[0m\n\u001b[1;32m----> 1\u001b[0m \u001b[43mtestAlgo\u001b[49m\u001b[43m(\u001b[49m\u001b[43mcompress\u001b[49m\u001b[43m,\u001b[49m\u001b[43m \u001b[49m\u001b[43mtestcases\u001b[49m\u001b[43m,\u001b[49m\u001b[43m \u001b[49m\u001b[43m[\u001b[49m\u001b[38;5;124;43m\"\u001b[39;49m\u001b[38;5;124;43ma\u001b[39;49m\u001b[38;5;124;43m\"\u001b[39;49m\u001b[43m,\u001b[49m\u001b[38;5;124;43m\"\u001b[39;49m\u001b[38;5;124;43m2\u001b[39;49m\u001b[38;5;124;43m\"\u001b[39;49m\u001b[43m,\u001b[49m\u001b[38;5;124;43m\"\u001b[39;49m\u001b[38;5;124;43mb\u001b[39;49m\u001b[38;5;124;43m\"\u001b[39;49m\u001b[43m,\u001b[49m\u001b[38;5;124;43m\"\u001b[39;49m\u001b[38;5;124;43m2\u001b[39;49m\u001b[38;5;124;43m\"\u001b[39;49m\u001b[43m,\u001b[49m\u001b[38;5;124;43m\"\u001b[39;49m\u001b[38;5;124;43mc\u001b[39;49m\u001b[38;5;124;43m\"\u001b[39;49m\u001b[43m,\u001b[49m\u001b[38;5;124;43m\"\u001b[39;49m\u001b[38;5;124;43m3\u001b[39;49m\u001b[38;5;124;43m\"\u001b[39;49m\u001b[43m]\u001b[49m\u001b[43m)\u001b[49m\n",
      "Cell \u001b[1;32mIn[6], line 8\u001b[0m, in \u001b[0;36mtestAlgo\u001b[1;34m(algo, testcases, correctAnswers)\u001b[0m\n\u001b[0;32m      5\u001b[0m passed \u001b[38;5;241m=\u001b[39m failed \u001b[38;5;241m=\u001b[39m \u001b[38;5;241m0\u001b[39m\n\u001b[0;32m      7\u001b[0m \u001b[38;5;28;01mfor\u001b[39;00m i, item \u001b[38;5;129;01min\u001b[39;00m \u001b[38;5;28menumerate\u001b[39m(\u001b[38;5;28mlist\u001b[39m(\u001b[38;5;28mzip\u001b[39m(testcases, correctAnswers))):\n\u001b[1;32m----> 8\u001b[0m     \u001b[38;5;28;01mif\u001b[39;00m \u001b[43malgo\u001b[49m\u001b[43m(\u001b[49m\u001b[43mitem\u001b[49m\u001b[43m[\u001b[49m\u001b[38;5;241;43m0\u001b[39;49m\u001b[43m]\u001b[49m\u001b[43m)\u001b[49m \u001b[38;5;241m==\u001b[39m item[\u001b[38;5;241m1\u001b[39m]:\n\u001b[0;32m      9\u001b[0m         res \u001b[38;5;241m=\u001b[39m \u001b[38;5;124mf\u001b[39m\u001b[38;5;124m\"\u001b[39m\u001b[38;5;124m [case \u001b[39m\u001b[38;5;132;01m{\u001b[39;00mi\u001b[38;5;132;01m}\u001b[39;00m\u001b[38;5;124m] \u001b[39m\u001b[38;5;130;01m\\u2713\u001b[39;00m\u001b[38;5;124m ... passed!\u001b[39m\u001b[38;5;124m\"\u001b[39m\n\u001b[0;32m     10\u001b[0m         passed \u001b[38;5;241m+\u001b[39m\u001b[38;5;241m=\u001b[39m \u001b[38;5;241m1\u001b[39m\n",
      "Cell \u001b[1;32mIn[54], line 14\u001b[0m, in \u001b[0;36mcompress\u001b[1;34m(chars)\u001b[0m\n\u001b[0;32m     12\u001b[0m chars \u001b[38;5;241m=\u001b[39m chars\u001b[38;5;241m.\u001b[39msplit(\u001b[38;5;124m'\u001b[39m\u001b[38;5;124m,\u001b[39m\u001b[38;5;124m'\u001b[39m)\n\u001b[0;32m     13\u001b[0m \u001b[38;5;28mprint\u001b[39m(chars)\n\u001b[1;32m---> 14\u001b[0m \u001b[38;5;28;01mreturn\u001b[39;00m \u001b[43ms\u001b[49m\n",
      "\u001b[1;31mNameError\u001b[0m: name 's' is not defined"
     ]
    }
   ],
   "source": [
    "testAlgo(compress, testcases, [\"a\",\"2\",\"b\",\"2\",\"c\",\"3\"])"
   ]
  },
  {
   "cell_type": "code",
   "execution_count": null,
   "metadata": {},
   "outputs": [],
   "source": []
  }
 ],
 "metadata": {
  "kernelspec": {
   "display_name": ".venv",
   "language": "python",
   "name": "python3"
  },
  "language_info": {
   "codemirror_mode": {
    "name": "ipython",
    "version": 3
   },
   "file_extension": ".py",
   "mimetype": "text/x-python",
   "name": "python",
   "nbconvert_exporter": "python",
   "pygments_lexer": "ipython3",
   "version": "3.12.6"
  }
 },
 "nbformat": 4,
 "nbformat_minor": 2
}
